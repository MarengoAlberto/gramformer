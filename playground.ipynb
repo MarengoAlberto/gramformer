{
 "cells": [
  {
   "cell_type": "code",
   "execution_count": 1,
   "metadata": {
    "collapsed": true,
    "ExecuteTime": {
     "end_time": "2023-07-18T19:48:09.728387Z",
     "start_time": "2023-07-18T19:48:09.149127Z"
    }
   },
   "outputs": [],
   "source": [
    "# Imports\n",
    "from gramformer import Gramformer\n",
    "import torch"
   ]
  },
  {
   "cell_type": "code",
   "execution_count": 2,
   "outputs": [],
   "source": [
    "# Fix seed, also on GPU\n",
    "def fix_seed(value):\n",
    "    torch.manual_seed(value)\n",
    "    if torch.cuda.is_available():\n",
    "        torch.cuda.manual_seed_all(value)\n",
    "\n",
    "fix_seed(42)"
   ],
   "metadata": {
    "collapsed": false,
    "ExecuteTime": {
     "end_time": "2023-07-18T19:48:09.733922Z",
     "start_time": "2023-07-18T19:48:09.729182Z"
    }
   }
  },
  {
   "cell_type": "code",
   "execution_count": 3,
   "outputs": [
    {
     "name": "stderr",
     "output_type": "stream",
     "text": [
      "/Users/albertomarengo/Bitstrapped-Project/Gramformer/gramformer-venv/lib/python3.9/site-packages/urllib3/__init__.py:34: NotOpenSSLWarning: urllib3 v2.0 only supports OpenSSL 1.1.1+, currently the 'ssl' module is compiled with 'LibreSSL 2.8.3'. See: https://github.com/urllib3/urllib3/issues/3020\n",
      "  warnings.warn(\n"
     ]
    },
    {
     "ename": "ImportError",
     "evalue": "dlopen(/Users/albertomarengo/Bitstrapped-Project/Gramformer/gramformer-venv/lib/python3.9/site-packages/charset_normalizer/md.cpython-39-darwin.so, 0x0002): tried: '/Users/albertomarengo/Bitstrapped-Project/Gramformer/gramformer-venv/lib/python3.9/site-packages/charset_normalizer/md.cpython-39-darwin.so' (mach-o file, but is an incompatible architecture (have 'x86_64', need 'arm64')), '/System/Volumes/Preboot/Cryptexes/OS/Users/albertomarengo/Bitstrapped-Project/Gramformer/gramformer-venv/lib/python3.9/site-packages/charset_normalizer/md.cpython-39-darwin.so' (no such file), '/Users/albertomarengo/Bitstrapped-Project/Gramformer/gramformer-venv/lib/python3.9/site-packages/charset_normalizer/md.cpython-39-darwin.so' (mach-o file, but is an incompatible architecture (have 'x86_64', need 'arm64'))",
     "output_type": "error",
     "traceback": [
      "\u001B[0;31m---------------------------------------------------------------------------\u001B[0m",
      "\u001B[0;31mModuleNotFoundError\u001B[0m                       Traceback (most recent call last)",
      "File \u001B[0;32m~/Bitstrapped-Project/Gramformer/gramformer-venv/lib/python3.9/site-packages/requests/compat.py:11\u001B[0m\n\u001B[1;32m     10\u001B[0m \u001B[38;5;28;01mtry\u001B[39;00m:\n\u001B[0;32m---> 11\u001B[0m     \u001B[38;5;28;01mimport\u001B[39;00m \u001B[38;5;21;01mchardet\u001B[39;00m\n\u001B[1;32m     12\u001B[0m \u001B[38;5;28;01mexcept\u001B[39;00m \u001B[38;5;167;01mImportError\u001B[39;00m:\n",
      "\u001B[0;31mModuleNotFoundError\u001B[0m: No module named 'chardet'",
      "\nDuring handling of the above exception, another exception occurred:\n",
      "\u001B[0;31mImportError\u001B[0m                               Traceback (most recent call last)",
      "Cell \u001B[0;32mIn[3], line 2\u001B[0m\n\u001B[1;32m      1\u001B[0m \u001B[38;5;66;03m# Initialize Gramformer\u001B[39;00m\n\u001B[0;32m----> 2\u001B[0m grammar_correction \u001B[38;5;241m=\u001B[39m \u001B[43mGramformer\u001B[49m\u001B[43m(\u001B[49m\u001B[43mmodels\u001B[49m\u001B[43m \u001B[49m\u001B[38;5;241;43m=\u001B[39;49m\u001B[43m \u001B[49m\u001B[38;5;241;43m1\u001B[39;49m\u001B[43m,\u001B[49m\u001B[43m \u001B[49m\u001B[43muse_gpu\u001B[49m\u001B[38;5;241;43m=\u001B[39;49m\u001B[38;5;28;43;01mFalse\u001B[39;49;00m\u001B[43m)\u001B[49m\n",
      "File \u001B[0;32m~/Bitstrapped-Project/Gramformer/gramformer-venv/lib/python3.9/site-packages/gramformer/gramformer.py:4\u001B[0m, in \u001B[0;36mGramformer.__init__\u001B[0;34m(self, models, use_gpu)\u001B[0m\n\u001B[1;32m      3\u001B[0m \u001B[38;5;28;01mdef\u001B[39;00m \u001B[38;5;21m__init__\u001B[39m(\u001B[38;5;28mself\u001B[39m, models\u001B[38;5;241m=\u001B[39m\u001B[38;5;241m1\u001B[39m, use_gpu\u001B[38;5;241m=\u001B[39m\u001B[38;5;28;01mFalse\u001B[39;00m):\n\u001B[0;32m----> 4\u001B[0m   \u001B[38;5;28;01mfrom\u001B[39;00m \u001B[38;5;21;01mtransformers\u001B[39;00m \u001B[38;5;28;01mimport\u001B[39;00m AutoTokenizer\n\u001B[1;32m      5\u001B[0m   \u001B[38;5;28;01mfrom\u001B[39;00m \u001B[38;5;21;01mtransformers\u001B[39;00m \u001B[38;5;28;01mimport\u001B[39;00m AutoModelForSeq2SeqLM\n\u001B[1;32m      6\u001B[0m   \u001B[38;5;66;03m#from lm_scorer.models.auto import AutoLMScorer as LMScorer\u001B[39;00m\n",
      "File \u001B[0;32m~/Bitstrapped-Project/Gramformer/gramformer-venv/lib/python3.9/site-packages/transformers/__init__.py:26\u001B[0m\n\u001B[1;32m     23\u001B[0m \u001B[38;5;28;01mfrom\u001B[39;00m \u001B[38;5;21;01mtyping\u001B[39;00m \u001B[38;5;28;01mimport\u001B[39;00m TYPE_CHECKING\n\u001B[1;32m     25\u001B[0m \u001B[38;5;66;03m# Check the dependencies satisfy the minimal versions required.\u001B[39;00m\n\u001B[0;32m---> 26\u001B[0m \u001B[38;5;28;01mfrom\u001B[39;00m \u001B[38;5;21;01m.\u001B[39;00m \u001B[38;5;28;01mimport\u001B[39;00m dependency_versions_check\n\u001B[1;32m     27\u001B[0m \u001B[38;5;28;01mfrom\u001B[39;00m \u001B[38;5;21;01m.\u001B[39;00m\u001B[38;5;21;01mutils\u001B[39;00m \u001B[38;5;28;01mimport\u001B[39;00m (\n\u001B[1;32m     28\u001B[0m     OptionalDependencyNotAvailable,\n\u001B[1;32m     29\u001B[0m     _LazyModule,\n\u001B[0;32m   (...)\u001B[0m\n\u001B[1;32m     42\u001B[0m     logging,\n\u001B[1;32m     43\u001B[0m )\n\u001B[1;32m     46\u001B[0m logger \u001B[38;5;241m=\u001B[39m logging\u001B[38;5;241m.\u001B[39mget_logger(\u001B[38;5;18m__name__\u001B[39m)  \u001B[38;5;66;03m# pylint: disable=invalid-name\u001B[39;00m\n",
      "File \u001B[0;32m~/Bitstrapped-Project/Gramformer/gramformer-venv/lib/python3.9/site-packages/transformers/dependency_versions_check.py:17\u001B[0m\n\u001B[1;32m     14\u001B[0m \u001B[38;5;28;01mimport\u001B[39;00m \u001B[38;5;21;01msys\u001B[39;00m\n\u001B[1;32m     16\u001B[0m \u001B[38;5;28;01mfrom\u001B[39;00m \u001B[38;5;21;01m.\u001B[39;00m\u001B[38;5;21;01mdependency_versions_table\u001B[39;00m \u001B[38;5;28;01mimport\u001B[39;00m deps\n\u001B[0;32m---> 17\u001B[0m \u001B[38;5;28;01mfrom\u001B[39;00m \u001B[38;5;21;01m.\u001B[39;00m\u001B[38;5;21;01mutils\u001B[39;00m\u001B[38;5;21;01m.\u001B[39;00m\u001B[38;5;21;01mversions\u001B[39;00m \u001B[38;5;28;01mimport\u001B[39;00m require_version, require_version_core\n\u001B[1;32m     20\u001B[0m \u001B[38;5;66;03m# define which module versions we always want to check at run time\u001B[39;00m\n\u001B[1;32m     21\u001B[0m \u001B[38;5;66;03m# (usually the ones defined in `install_requires` in setup.py)\u001B[39;00m\n\u001B[1;32m     22\u001B[0m \u001B[38;5;66;03m#\u001B[39;00m\n\u001B[1;32m     23\u001B[0m \u001B[38;5;66;03m# order specific notes:\u001B[39;00m\n\u001B[1;32m     24\u001B[0m \u001B[38;5;66;03m# - tqdm must be checked before tokenizers\u001B[39;00m\n\u001B[1;32m     26\u001B[0m pkgs_to_check_at_runtime \u001B[38;5;241m=\u001B[39m \u001B[38;5;124m\"\u001B[39m\u001B[38;5;124mpython tqdm regex requests packaging filelock numpy tokenizers\u001B[39m\u001B[38;5;124m\"\u001B[39m\u001B[38;5;241m.\u001B[39msplit()\n",
      "File \u001B[0;32m~/Bitstrapped-Project/Gramformer/gramformer-venv/lib/python3.9/site-packages/transformers/utils/__init__.py:30\u001B[0m\n\u001B[1;32m     21\u001B[0m \u001B[38;5;28;01mfrom\u001B[39;00m \u001B[38;5;21;01m.\u001B[39;00m\u001B[38;5;21;01mconstants\u001B[39;00m \u001B[38;5;28;01mimport\u001B[39;00m IMAGENET_DEFAULT_MEAN, IMAGENET_DEFAULT_STD, IMAGENET_STANDARD_MEAN, IMAGENET_STANDARD_STD\n\u001B[1;32m     22\u001B[0m \u001B[38;5;28;01mfrom\u001B[39;00m \u001B[38;5;21;01m.\u001B[39;00m\u001B[38;5;21;01mdoc\u001B[39;00m \u001B[38;5;28;01mimport\u001B[39;00m (\n\u001B[1;32m     23\u001B[0m     add_code_sample_docstrings,\n\u001B[1;32m     24\u001B[0m     add_end_docstrings,\n\u001B[0;32m   (...)\u001B[0m\n\u001B[1;32m     28\u001B[0m     replace_return_docstrings,\n\u001B[1;32m     29\u001B[0m )\n\u001B[0;32m---> 30\u001B[0m \u001B[38;5;28;01mfrom\u001B[39;00m \u001B[38;5;21;01m.\u001B[39;00m\u001B[38;5;21;01mgeneric\u001B[39;00m \u001B[38;5;28;01mimport\u001B[39;00m (\n\u001B[1;32m     31\u001B[0m     ContextManagers,\n\u001B[1;32m     32\u001B[0m     ExplicitEnum,\n\u001B[1;32m     33\u001B[0m     ModelOutput,\n\u001B[1;32m     34\u001B[0m     PaddingStrategy,\n\u001B[1;32m     35\u001B[0m     TensorType,\n\u001B[1;32m     36\u001B[0m     add_model_info_to_auto_map,\n\u001B[1;32m     37\u001B[0m     cached_property,\n\u001B[1;32m     38\u001B[0m     can_return_loss,\n\u001B[1;32m     39\u001B[0m     expand_dims,\n\u001B[1;32m     40\u001B[0m     find_labels,\n\u001B[1;32m     41\u001B[0m     flatten_dict,\n\u001B[1;32m     42\u001B[0m     infer_framework,\n\u001B[1;32m     43\u001B[0m     is_jax_tensor,\n\u001B[1;32m     44\u001B[0m     is_numpy_array,\n\u001B[1;32m     45\u001B[0m     is_tensor,\n\u001B[1;32m     46\u001B[0m     is_tf_symbolic_tensor,\n\u001B[1;32m     47\u001B[0m     is_tf_tensor,\n\u001B[1;32m     48\u001B[0m     is_torch_device,\n\u001B[1;32m     49\u001B[0m     is_torch_dtype,\n\u001B[1;32m     50\u001B[0m     is_torch_tensor,\n\u001B[1;32m     51\u001B[0m     reshape,\n\u001B[1;32m     52\u001B[0m     squeeze,\n\u001B[1;32m     53\u001B[0m     strtobool,\n\u001B[1;32m     54\u001B[0m     tensor_size,\n\u001B[1;32m     55\u001B[0m     to_numpy,\n\u001B[1;32m     56\u001B[0m     to_py_obj,\n\u001B[1;32m     57\u001B[0m     transpose,\n\u001B[1;32m     58\u001B[0m     working_or_temp_dir,\n\u001B[1;32m     59\u001B[0m )\n\u001B[1;32m     60\u001B[0m \u001B[38;5;28;01mfrom\u001B[39;00m \u001B[38;5;21;01m.\u001B[39;00m\u001B[38;5;21;01mhub\u001B[39;00m \u001B[38;5;28;01mimport\u001B[39;00m (\n\u001B[1;32m     61\u001B[0m     CLOUDFRONT_DISTRIB_PREFIX,\n\u001B[1;32m     62\u001B[0m     DISABLE_TELEMETRY,\n\u001B[0;32m   (...)\u001B[0m\n\u001B[1;32m     89\u001B[0m     try_to_load_from_cache,\n\u001B[1;32m     90\u001B[0m )\n\u001B[1;32m     91\u001B[0m \u001B[38;5;28;01mfrom\u001B[39;00m \u001B[38;5;21;01m.\u001B[39;00m\u001B[38;5;21;01mimport_utils\u001B[39;00m \u001B[38;5;28;01mimport\u001B[39;00m (\n\u001B[1;32m     92\u001B[0m     ENV_VARS_TRUE_AND_AUTO_VALUES,\n\u001B[1;32m     93\u001B[0m     ENV_VARS_TRUE_VALUES,\n\u001B[0;32m   (...)\u001B[0m\n\u001B[1;32m    174\u001B[0m     torch_only_method,\n\u001B[1;32m    175\u001B[0m )\n",
      "File \u001B[0;32m~/Bitstrapped-Project/Gramformer/gramformer-venv/lib/python3.9/site-packages/transformers/utils/generic.py:29\u001B[0m\n\u001B[1;32m     25\u001B[0m \u001B[38;5;28;01mfrom\u001B[39;00m \u001B[38;5;21;01mtyping\u001B[39;00m \u001B[38;5;28;01mimport\u001B[39;00m Any, ContextManager, List, Tuple\n\u001B[1;32m     27\u001B[0m \u001B[38;5;28;01mimport\u001B[39;00m \u001B[38;5;21;01mnumpy\u001B[39;00m \u001B[38;5;28;01mas\u001B[39;00m \u001B[38;5;21;01mnp\u001B[39;00m\n\u001B[0;32m---> 29\u001B[0m \u001B[38;5;28;01mfrom\u001B[39;00m \u001B[38;5;21;01m.\u001B[39;00m\u001B[38;5;21;01mimport_utils\u001B[39;00m \u001B[38;5;28;01mimport\u001B[39;00m is_flax_available, is_tf_available, is_torch_available, is_torch_fx_proxy\n\u001B[1;32m     32\u001B[0m \u001B[38;5;28;01mif\u001B[39;00m is_flax_available():\n\u001B[1;32m     33\u001B[0m     \u001B[38;5;28;01mimport\u001B[39;00m \u001B[38;5;21;01mjax\u001B[39;00m\u001B[38;5;21;01m.\u001B[39;00m\u001B[38;5;21;01mnumpy\u001B[39;00m \u001B[38;5;28;01mas\u001B[39;00m \u001B[38;5;21;01mjnp\u001B[39;00m\n",
      "File \u001B[0;32m~/Bitstrapped-Project/Gramformer/gramformer-venv/lib/python3.9/site-packages/transformers/utils/import_utils.py:33\u001B[0m\n\u001B[1;32m     29\u001B[0m \u001B[38;5;28;01mfrom\u001B[39;00m \u001B[38;5;21;01mtyping\u001B[39;00m \u001B[38;5;28;01mimport\u001B[39;00m Any, Tuple, Union\n\u001B[1;32m     31\u001B[0m \u001B[38;5;28;01mfrom\u001B[39;00m \u001B[38;5;21;01mpackaging\u001B[39;00m \u001B[38;5;28;01mimport\u001B[39;00m version\n\u001B[0;32m---> 33\u001B[0m \u001B[38;5;28;01mfrom\u001B[39;00m \u001B[38;5;21;01m.\u001B[39;00m \u001B[38;5;28;01mimport\u001B[39;00m logging\n\u001B[1;32m     34\u001B[0m \u001B[38;5;28;01mfrom\u001B[39;00m \u001B[38;5;21;01m.\u001B[39;00m\u001B[38;5;21;01mversions\u001B[39;00m \u001B[38;5;28;01mimport\u001B[39;00m importlib_metadata\n\u001B[1;32m     37\u001B[0m logger \u001B[38;5;241m=\u001B[39m logging\u001B[38;5;241m.\u001B[39mget_logger(\u001B[38;5;18m__name__\u001B[39m)  \u001B[38;5;66;03m# pylint: disable=invalid-name\u001B[39;00m\n",
      "File \u001B[0;32m~/Bitstrapped-Project/Gramformer/gramformer-venv/lib/python3.9/site-packages/transformers/utils/logging.py:35\u001B[0m\n\u001B[1;32m     23\u001B[0m \u001B[38;5;28;01mfrom\u001B[39;00m \u001B[38;5;21;01mlogging\u001B[39;00m \u001B[38;5;28;01mimport\u001B[39;00m (\n\u001B[1;32m     24\u001B[0m     CRITICAL,  \u001B[38;5;66;03m# NOQA\u001B[39;00m\n\u001B[1;32m     25\u001B[0m     DEBUG,  \u001B[38;5;66;03m# NOQA\u001B[39;00m\n\u001B[0;32m   (...)\u001B[0m\n\u001B[1;32m     31\u001B[0m     WARNING,  \u001B[38;5;66;03m# NOQA\u001B[39;00m\n\u001B[1;32m     32\u001B[0m )\n\u001B[1;32m     33\u001B[0m \u001B[38;5;28;01mfrom\u001B[39;00m \u001B[38;5;21;01mtyping\u001B[39;00m \u001B[38;5;28;01mimport\u001B[39;00m Optional\n\u001B[0;32m---> 35\u001B[0m \u001B[38;5;28;01mimport\u001B[39;00m \u001B[38;5;21;01mhuggingface_hub\u001B[39;00m\u001B[38;5;21;01m.\u001B[39;00m\u001B[38;5;21;01mutils\u001B[39;00m \u001B[38;5;28;01mas\u001B[39;00m \u001B[38;5;21;01mhf_hub_utils\u001B[39;00m\n\u001B[1;32m     36\u001B[0m \u001B[38;5;28;01mfrom\u001B[39;00m \u001B[38;5;21;01mtqdm\u001B[39;00m \u001B[38;5;28;01mimport\u001B[39;00m auto \u001B[38;5;28;01mas\u001B[39;00m tqdm_lib\n\u001B[1;32m     39\u001B[0m _lock \u001B[38;5;241m=\u001B[39m threading\u001B[38;5;241m.\u001B[39mLock()\n",
      "File \u001B[0;32m~/Bitstrapped-Project/Gramformer/gramformer-venv/lib/python3.9/site-packages/huggingface_hub/utils/__init__.py:32\u001B[0m\n\u001B[1;32m     30\u001B[0m \u001B[38;5;28;01mfrom\u001B[39;00m \u001B[38;5;21;01m.\u001B[39;00m\u001B[38;5;21;01m_chunk_utils\u001B[39;00m \u001B[38;5;28;01mimport\u001B[39;00m chunk_iterable\n\u001B[1;32m     31\u001B[0m \u001B[38;5;28;01mfrom\u001B[39;00m \u001B[38;5;21;01m.\u001B[39;00m\u001B[38;5;21;01m_datetime\u001B[39;00m \u001B[38;5;28;01mimport\u001B[39;00m parse_datetime\n\u001B[0;32m---> 32\u001B[0m \u001B[38;5;28;01mfrom\u001B[39;00m \u001B[38;5;21;01m.\u001B[39;00m\u001B[38;5;21;01m_errors\u001B[39;00m \u001B[38;5;28;01mimport\u001B[39;00m (\n\u001B[1;32m     33\u001B[0m     BadRequestError,\n\u001B[1;32m     34\u001B[0m     EntryNotFoundError,\n\u001B[1;32m     35\u001B[0m     GatedRepoError,\n\u001B[1;32m     36\u001B[0m     HfHubHTTPError,\n\u001B[1;32m     37\u001B[0m     LocalEntryNotFoundError,\n\u001B[1;32m     38\u001B[0m     RepositoryNotFoundError,\n\u001B[1;32m     39\u001B[0m     RevisionNotFoundError,\n\u001B[1;32m     40\u001B[0m     hf_raise_for_status,\n\u001B[1;32m     41\u001B[0m )\n\u001B[1;32m     42\u001B[0m \u001B[38;5;28;01mfrom\u001B[39;00m \u001B[38;5;21;01m.\u001B[39;00m\u001B[38;5;21;01m_fixes\u001B[39;00m \u001B[38;5;28;01mimport\u001B[39;00m SoftTemporaryDirectory, yaml_dump\n\u001B[1;32m     43\u001B[0m \u001B[38;5;28;01mfrom\u001B[39;00m \u001B[38;5;21;01m.\u001B[39;00m\u001B[38;5;21;01m_git_credential\u001B[39;00m \u001B[38;5;28;01mimport\u001B[39;00m list_credential_helpers, set_git_credential, unset_git_credential\n",
      "File \u001B[0;32m~/Bitstrapped-Project/Gramformer/gramformer-venv/lib/python3.9/site-packages/huggingface_hub/utils/_errors.py:3\u001B[0m\n\u001B[1;32m      1\u001B[0m \u001B[38;5;28;01mfrom\u001B[39;00m \u001B[38;5;21;01mtyping\u001B[39;00m \u001B[38;5;28;01mimport\u001B[39;00m Optional\n\u001B[0;32m----> 3\u001B[0m \u001B[38;5;28;01mfrom\u001B[39;00m \u001B[38;5;21;01mrequests\u001B[39;00m \u001B[38;5;28;01mimport\u001B[39;00m HTTPError, Response\n\u001B[1;32m      5\u001B[0m \u001B[38;5;28;01mfrom\u001B[39;00m \u001B[38;5;21;01m.\u001B[39;00m\u001B[38;5;21;01m_fixes\u001B[39;00m \u001B[38;5;28;01mimport\u001B[39;00m JSONDecodeError\n\u001B[1;32m      8\u001B[0m \u001B[38;5;28;01mclass\u001B[39;00m \u001B[38;5;21;01mHfHubHTTPError\u001B[39;00m(HTTPError):\n",
      "File \u001B[0;32m~/Bitstrapped-Project/Gramformer/gramformer-venv/lib/python3.9/site-packages/requests/__init__.py:45\u001B[0m\n\u001B[1;32m     41\u001B[0m \u001B[38;5;28;01mimport\u001B[39;00m \u001B[38;5;21;01mwarnings\u001B[39;00m\n\u001B[1;32m     43\u001B[0m \u001B[38;5;28;01mimport\u001B[39;00m \u001B[38;5;21;01murllib3\u001B[39;00m\n\u001B[0;32m---> 45\u001B[0m \u001B[38;5;28;01mfrom\u001B[39;00m \u001B[38;5;21;01m.\u001B[39;00m\u001B[38;5;21;01mexceptions\u001B[39;00m \u001B[38;5;28;01mimport\u001B[39;00m RequestsDependencyWarning\n\u001B[1;32m     47\u001B[0m \u001B[38;5;28;01mtry\u001B[39;00m:\n\u001B[1;32m     48\u001B[0m     \u001B[38;5;28;01mfrom\u001B[39;00m \u001B[38;5;21;01mcharset_normalizer\u001B[39;00m \u001B[38;5;28;01mimport\u001B[39;00m __version__ \u001B[38;5;28;01mas\u001B[39;00m charset_normalizer_version\n",
      "File \u001B[0;32m~/Bitstrapped-Project/Gramformer/gramformer-venv/lib/python3.9/site-packages/requests/exceptions.py:9\u001B[0m\n\u001B[1;32m      1\u001B[0m \u001B[38;5;124;03m\"\"\"\u001B[39;00m\n\u001B[1;32m      2\u001B[0m \u001B[38;5;124;03mrequests.exceptions\u001B[39;00m\n\u001B[1;32m      3\u001B[0m \u001B[38;5;124;03m~~~~~~~~~~~~~~~~~~~\u001B[39;00m\n\u001B[1;32m      4\u001B[0m \n\u001B[1;32m      5\u001B[0m \u001B[38;5;124;03mThis module contains the set of Requests' exceptions.\u001B[39;00m\n\u001B[1;32m      6\u001B[0m \u001B[38;5;124;03m\"\"\"\u001B[39;00m\n\u001B[1;32m      7\u001B[0m \u001B[38;5;28;01mfrom\u001B[39;00m \u001B[38;5;21;01murllib3\u001B[39;00m\u001B[38;5;21;01m.\u001B[39;00m\u001B[38;5;21;01mexceptions\u001B[39;00m \u001B[38;5;28;01mimport\u001B[39;00m HTTPError \u001B[38;5;28;01mas\u001B[39;00m BaseHTTPError\n\u001B[0;32m----> 9\u001B[0m \u001B[38;5;28;01mfrom\u001B[39;00m \u001B[38;5;21;01m.\u001B[39;00m\u001B[38;5;21;01mcompat\u001B[39;00m \u001B[38;5;28;01mimport\u001B[39;00m JSONDecodeError \u001B[38;5;28;01mas\u001B[39;00m CompatJSONDecodeError\n\u001B[1;32m     12\u001B[0m \u001B[38;5;28;01mclass\u001B[39;00m \u001B[38;5;21;01mRequestException\u001B[39;00m(\u001B[38;5;167;01mIOError\u001B[39;00m):\n\u001B[1;32m     13\u001B[0m \u001B[38;5;250m    \u001B[39m\u001B[38;5;124;03m\"\"\"There was an ambiguous exception that occurred while handling your\u001B[39;00m\n\u001B[1;32m     14\u001B[0m \u001B[38;5;124;03m    request.\u001B[39;00m\n\u001B[1;32m     15\u001B[0m \u001B[38;5;124;03m    \"\"\"\u001B[39;00m\n",
      "File \u001B[0;32m~/Bitstrapped-Project/Gramformer/gramformer-venv/lib/python3.9/site-packages/requests/compat.py:13\u001B[0m\n\u001B[1;32m     11\u001B[0m     \u001B[38;5;28;01mimport\u001B[39;00m \u001B[38;5;21;01mchardet\u001B[39;00m\n\u001B[1;32m     12\u001B[0m \u001B[38;5;28;01mexcept\u001B[39;00m \u001B[38;5;167;01mImportError\u001B[39;00m:\n\u001B[0;32m---> 13\u001B[0m     \u001B[38;5;28;01mimport\u001B[39;00m \u001B[38;5;21;01mcharset_normalizer\u001B[39;00m \u001B[38;5;28;01mas\u001B[39;00m \u001B[38;5;21;01mchardet\u001B[39;00m\n\u001B[1;32m     15\u001B[0m \u001B[38;5;28;01mimport\u001B[39;00m \u001B[38;5;21;01msys\u001B[39;00m\n\u001B[1;32m     17\u001B[0m \u001B[38;5;66;03m# -------\u001B[39;00m\n\u001B[1;32m     18\u001B[0m \u001B[38;5;66;03m# Pythons\u001B[39;00m\n\u001B[1;32m     19\u001B[0m \u001B[38;5;66;03m# -------\u001B[39;00m\n\u001B[1;32m     20\u001B[0m \n\u001B[1;32m     21\u001B[0m \u001B[38;5;66;03m# Syntax sugar.\u001B[39;00m\n",
      "File \u001B[0;32m~/Bitstrapped-Project/Gramformer/gramformer-venv/lib/python3.9/site-packages/charset_normalizer/__init__.py:24\u001B[0m\n\u001B[1;32m      2\u001B[0m \u001B[38;5;124;03m\"\"\"\u001B[39;00m\n\u001B[1;32m      3\u001B[0m \u001B[38;5;124;03mCharset-Normalizer\u001B[39;00m\n\u001B[1;32m      4\u001B[0m \u001B[38;5;124;03m~~~~~~~~~~~~~~\u001B[39;00m\n\u001B[0;32m   (...)\u001B[0m\n\u001B[1;32m     20\u001B[0m \u001B[38;5;124;03m:license: MIT, see LICENSE for more details.\u001B[39;00m\n\u001B[1;32m     21\u001B[0m \u001B[38;5;124;03m\"\"\"\u001B[39;00m\n\u001B[1;32m     22\u001B[0m \u001B[38;5;28;01mimport\u001B[39;00m \u001B[38;5;21;01mlogging\u001B[39;00m\n\u001B[0;32m---> 24\u001B[0m \u001B[38;5;28;01mfrom\u001B[39;00m \u001B[38;5;21;01m.\u001B[39;00m\u001B[38;5;21;01mapi\u001B[39;00m \u001B[38;5;28;01mimport\u001B[39;00m from_bytes, from_fp, from_path, is_binary\n\u001B[1;32m     25\u001B[0m \u001B[38;5;28;01mfrom\u001B[39;00m \u001B[38;5;21;01m.\u001B[39;00m\u001B[38;5;21;01mlegacy\u001B[39;00m \u001B[38;5;28;01mimport\u001B[39;00m detect\n\u001B[1;32m     26\u001B[0m \u001B[38;5;28;01mfrom\u001B[39;00m \u001B[38;5;21;01m.\u001B[39;00m\u001B[38;5;21;01mmodels\u001B[39;00m \u001B[38;5;28;01mimport\u001B[39;00m CharsetMatch, CharsetMatches\n",
      "File \u001B[0;32m~/Bitstrapped-Project/Gramformer/gramformer-venv/lib/python3.9/site-packages/charset_normalizer/api.py:5\u001B[0m\n\u001B[1;32m      2\u001B[0m \u001B[38;5;28;01mfrom\u001B[39;00m \u001B[38;5;21;01mos\u001B[39;00m \u001B[38;5;28;01mimport\u001B[39;00m PathLike\n\u001B[1;32m      3\u001B[0m \u001B[38;5;28;01mfrom\u001B[39;00m \u001B[38;5;21;01mtyping\u001B[39;00m \u001B[38;5;28;01mimport\u001B[39;00m BinaryIO, List, Optional, Set, Union\n\u001B[0;32m----> 5\u001B[0m \u001B[38;5;28;01mfrom\u001B[39;00m \u001B[38;5;21;01m.\u001B[39;00m\u001B[38;5;21;01mcd\u001B[39;00m \u001B[38;5;28;01mimport\u001B[39;00m (\n\u001B[1;32m      6\u001B[0m     coherence_ratio,\n\u001B[1;32m      7\u001B[0m     encoding_languages,\n\u001B[1;32m      8\u001B[0m     mb_encoding_languages,\n\u001B[1;32m      9\u001B[0m     merge_coherence_ratios,\n\u001B[1;32m     10\u001B[0m )\n\u001B[1;32m     11\u001B[0m \u001B[38;5;28;01mfrom\u001B[39;00m \u001B[38;5;21;01m.\u001B[39;00m\u001B[38;5;21;01mconstant\u001B[39;00m \u001B[38;5;28;01mimport\u001B[39;00m IANA_SUPPORTED, TOO_BIG_SEQUENCE, TOO_SMALL_SEQUENCE, TRACE\n\u001B[1;32m     12\u001B[0m \u001B[38;5;28;01mfrom\u001B[39;00m \u001B[38;5;21;01m.\u001B[39;00m\u001B[38;5;21;01mmd\u001B[39;00m \u001B[38;5;28;01mimport\u001B[39;00m mess_ratio\n",
      "File \u001B[0;32m~/Bitstrapped-Project/Gramformer/gramformer-venv/lib/python3.9/site-packages/charset_normalizer/cd.py:9\u001B[0m\n\u001B[1;32m      7\u001B[0m \u001B[38;5;28;01mfrom\u001B[39;00m \u001B[38;5;21;01m.\u001B[39;00m\u001B[38;5;21;01massets\u001B[39;00m \u001B[38;5;28;01mimport\u001B[39;00m FREQUENCIES\n\u001B[1;32m      8\u001B[0m \u001B[38;5;28;01mfrom\u001B[39;00m \u001B[38;5;21;01m.\u001B[39;00m\u001B[38;5;21;01mconstant\u001B[39;00m \u001B[38;5;28;01mimport\u001B[39;00m KO_NAMES, LANGUAGE_SUPPORTED_COUNT, TOO_SMALL_SEQUENCE, ZH_NAMES\n\u001B[0;32m----> 9\u001B[0m \u001B[38;5;28;01mfrom\u001B[39;00m \u001B[38;5;21;01m.\u001B[39;00m\u001B[38;5;21;01mmd\u001B[39;00m \u001B[38;5;28;01mimport\u001B[39;00m is_suspiciously_successive_range\n\u001B[1;32m     10\u001B[0m \u001B[38;5;28;01mfrom\u001B[39;00m \u001B[38;5;21;01m.\u001B[39;00m\u001B[38;5;21;01mmodels\u001B[39;00m \u001B[38;5;28;01mimport\u001B[39;00m CoherenceMatches\n\u001B[1;32m     11\u001B[0m \u001B[38;5;28;01mfrom\u001B[39;00m \u001B[38;5;21;01m.\u001B[39;00m\u001B[38;5;21;01mutils\u001B[39;00m \u001B[38;5;28;01mimport\u001B[39;00m (\n\u001B[1;32m     12\u001B[0m     is_accentuated,\n\u001B[1;32m     13\u001B[0m     is_latin,\n\u001B[0;32m   (...)\u001B[0m\n\u001B[1;32m     16\u001B[0m     unicode_range,\n\u001B[1;32m     17\u001B[0m )\n",
      "\u001B[0;31mImportError\u001B[0m: dlopen(/Users/albertomarengo/Bitstrapped-Project/Gramformer/gramformer-venv/lib/python3.9/site-packages/charset_normalizer/md.cpython-39-darwin.so, 0x0002): tried: '/Users/albertomarengo/Bitstrapped-Project/Gramformer/gramformer-venv/lib/python3.9/site-packages/charset_normalizer/md.cpython-39-darwin.so' (mach-o file, but is an incompatible architecture (have 'x86_64', need 'arm64')), '/System/Volumes/Preboot/Cryptexes/OS/Users/albertomarengo/Bitstrapped-Project/Gramformer/gramformer-venv/lib/python3.9/site-packages/charset_normalizer/md.cpython-39-darwin.so' (no such file), '/Users/albertomarengo/Bitstrapped-Project/Gramformer/gramformer-venv/lib/python3.9/site-packages/charset_normalizer/md.cpython-39-darwin.so' (mach-o file, but is an incompatible architecture (have 'x86_64', need 'arm64'))"
     ]
    }
   ],
   "source": [
    "# Initialize Gramformer\n",
    "grammar_correction = Gramformer(models = 1, use_gpu=False)"
   ],
   "metadata": {
    "collapsed": false,
    "ExecuteTime": {
     "end_time": "2023-07-18T19:48:10.550423Z",
     "start_time": "2023-07-18T19:48:09.734257Z"
    }
   }
  },
  {
   "cell_type": "code",
   "execution_count": null,
   "outputs": [],
   "source": [
    "# Incorrect phrases\n",
    "phrases = [\n",
    "    'How is you doing?',\n",
    "    'We is on the supermarket.',\n",
    "    'Hello you be in school for lecture.'\n",
    "]"
   ],
   "metadata": {
    "collapsed": false
   }
  },
  {
   "cell_type": "markdown",
   "source": [
    "# Improve each phrase\n",
    "for phrase in phrases:\n",
    "  corrections = grammar_correction.correct(phrase, max_candidates=2)\n",
    "  print(f'[Incorrect phrase] {phrase}')\n",
    "  for i in range(len(corrections)):\n",
    "    print(f'[Suggestion #{i}] {corrections[i]}')\n",
    "  print('~'*100)"
   ],
   "metadata": {
    "collapsed": false
   }
  }
 ],
 "metadata": {
  "kernelspec": {
   "display_name": "Python 3",
   "language": "python",
   "name": "python3"
  },
  "language_info": {
   "codemirror_mode": {
    "name": "ipython",
    "version": 2
   },
   "file_extension": ".py",
   "mimetype": "text/x-python",
   "name": "python",
   "nbconvert_exporter": "python",
   "pygments_lexer": "ipython2",
   "version": "2.7.6"
  }
 },
 "nbformat": 4,
 "nbformat_minor": 0
}
