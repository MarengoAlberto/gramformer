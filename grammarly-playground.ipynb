{
 "cells": [
  {
   "cell_type": "code",
   "execution_count": 1,
   "metadata": {
    "collapsed": true,
    "ExecuteTime": {
     "end_time": "2023-08-16T21:31:40.253460Z",
     "start_time": "2023-08-16T21:31:38.509426Z"
    }
   },
   "outputs": [],
   "source": [
    "from transformers import AutoTokenizer, T5ForConditionalGeneration"
   ]
  },
  {
   "cell_type": "code",
   "execution_count": 2,
   "outputs": [
    {
     "data": {
      "text/plain": "Downloading (…)okenizer_config.json:   0%|          | 0.00/2.50k [00:00<?, ?B/s]",
      "application/vnd.jupyter.widget-view+json": {
       "version_major": 2,
       "version_minor": 0,
       "model_id": "e561d41d839a44a58326598ed9f6d3ef"
      }
     },
     "metadata": {},
     "output_type": "display_data"
    },
    {
     "data": {
      "text/plain": "Downloading spiece.model:   0%|          | 0.00/792k [00:00<?, ?B/s]",
      "application/vnd.jupyter.widget-view+json": {
       "version_major": 2,
       "version_minor": 0,
       "model_id": "e69535f7ff2d44a09b5183de42fde9c7"
      }
     },
     "metadata": {},
     "output_type": "display_data"
    },
    {
     "data": {
      "text/plain": "Downloading (…)/main/tokenizer.json:   0%|          | 0.00/2.42M [00:00<?, ?B/s]",
      "application/vnd.jupyter.widget-view+json": {
       "version_major": 2,
       "version_minor": 0,
       "model_id": "ce14ae9f95784dc99fd4bd4f7cf2181e"
      }
     },
     "metadata": {},
     "output_type": "display_data"
    },
    {
     "data": {
      "text/plain": "Downloading (…)cial_tokens_map.json:   0%|          | 0.00/2.20k [00:00<?, ?B/s]",
      "application/vnd.jupyter.widget-view+json": {
       "version_major": 2,
       "version_minor": 0,
       "model_id": "906be7f7c874432fae196fb9d94b02d7"
      }
     },
     "metadata": {},
     "output_type": "display_data"
    },
    {
     "data": {
      "text/plain": "Downloading (…)lve/main/config.json:   0%|          | 0.00/787 [00:00<?, ?B/s]",
      "application/vnd.jupyter.widget-view+json": {
       "version_major": 2,
       "version_minor": 0,
       "model_id": "09d3bce97c884c3a87e5ca55fd32a0ea"
      }
     },
     "metadata": {},
     "output_type": "display_data"
    },
    {
     "data": {
      "text/plain": "Downloading pytorch_model.bin:   0%|          | 0.00/3.13G [00:00<?, ?B/s]",
      "application/vnd.jupyter.widget-view+json": {
       "version_major": 2,
       "version_minor": 0,
       "model_id": "ece49607988d40c1a4c957280f15db9c"
      }
     },
     "metadata": {},
     "output_type": "display_data"
    },
    {
     "data": {
      "text/plain": "Downloading (…)neration_config.json:   0%|          | 0.00/142 [00:00<?, ?B/s]",
      "application/vnd.jupyter.widget-view+json": {
       "version_major": 2,
       "version_minor": 0,
       "model_id": "7d94124d68144a43b4b485717ce29c7c"
      }
     },
     "metadata": {},
     "output_type": "display_data"
    }
   ],
   "source": [
    "tokenizer = AutoTokenizer.from_pretrained(\"grammarly/coedit-large\")\n",
    "model = T5ForConditionalGeneration.from_pretrained(\"grammarly/coedit-large\")"
   ],
   "metadata": {
    "collapsed": false,
    "ExecuteTime": {
     "end_time": "2023-08-16T21:33:27.005532Z",
     "start_time": "2023-08-16T21:31:55.052523Z"
    }
   }
  },
  {
   "cell_type": "code",
   "execution_count": 3,
   "outputs": [],
   "source": [
    "text = \"Client Devon lallo patient Krieg account 6038 date 721 2023 pulse 100 respiratory sniffing mucous membranes pink and moist CRT less than 2 seconds weight 98.5 pounds, increase thirteen point 5 pounds in 6 months BCS 7 out of 9 pain score zero Behavior mentation VAR excitedly friendly toy and food motivated mouth equals nice teeth! CV equals no arrhythmia or murmurs respiratory no wheezes or crackles uke Nick when not panting abdomen Supple abdomen no masses or Organo megali noted g.i. Supple intestines no masses noted integument no discharge a you know fleas or flea stool muscular skeletal overweight no lameness well-muscled assessment over weight but well-muscled adolescent neutered male Labrador Retriever mix with mild clinical CHD already on good supplements overdue for vaccines and 4dx plan discussed assessment answered lots of great questions from Julia Andre weight CHD overall health discuss cradle Leo for flea tick prevention to minimize in a plasma and other raquet seals gave handouts on body condition scoring and O A management test performed for TX vaccines given da2 PCL for annual Sub-Q right cervical Lyme annual Sub-Q left cervical return next year for PE 40 x and vaccines I saw chewy Fenster maker patient ID 275 83 and chewy presented for itchy ears the owner had some Surolan at home already and so they had already started to apply that at wasn't expired but they'd already started to apply at 3 or 4 days ago and so they said that his clinical signs had already pretty much diminished so on exam I did a full exam on Chewie his eyes looked normal his ears I did a full autoscopic exam on him his ears appeared quite good his right ear was a little bit more air with ominous than his left ear but he didn't have much discharge in either ear just a slight amount in both ears and we didn't do an ear cytology because there really wasn't any discharge that I could get an ear cytology from so we ended up the rest of him he's normal completely on the rest of his physical exam his body condition score was a 5 out of 9 who had ninety 5 point 4 pounds and we did discuss briefly keeping his weight down because he did gained 3 pounds since the last visit so I told him that I would recommend continuing the Surolan they already have enough Surolan at home so they said that that should be enough to last the full 10 days applying it twice daily and I told them that if they needed to refill we could refill it and the owner also brought along some Zyrtec and asked if she should use that and I told her that she could give 1 Zyrtec once-daily if he seemed like he if ears were still bothering him or if he seemed like he was having atopic dermatitis science such as itching on his body.Chart his booty owner is Sarah clue Ur k l. IE W ER patient ID 5 a 6 2 F CV patient presented for Sedation for x-rays to confirm ACL tear patient, heart and lungs. Escorted within normal limits, prominent left high and Limp. Patient is painful. I'm palpation the right iliopsoas muscle, but primarily using the right leg, patient has severe. Stifle effusion on the left side. Side possible. Mild pain on palpation, Alias, OS, son, left side, sedated with 0.35, mL of deck, stoma tour and 1.4 millimeters to beat orphan. All I am x-rays are radiographs, were taken, confirming bilateral, ACL tear with recent rupture and prominent, stifle effusion. On the left side, mild to moderate OE on both sides, present recommend Surgical. Pair discuss T. PL o-- versus lateral for bail or suture. Technique for repair, both will result in much better repair or much better long-term outcomes especially as the right. ACL, tear is Old owner to follow up and likely get ACL repair after returning in the August.\""
   ],
   "metadata": {
    "collapsed": false,
    "ExecuteTime": {
     "end_time": "2023-08-16T21:33:35.086931Z",
     "start_time": "2023-08-16T21:33:35.008976Z"
    }
   }
  },
  {
   "cell_type": "code",
   "execution_count": 4,
   "outputs": [],
   "source": [
    "input_text = f'Fix grammatical errors in this sentence: {text}'"
   ],
   "metadata": {
    "collapsed": false,
    "ExecuteTime": {
     "end_time": "2023-08-16T21:33:36.297215Z",
     "start_time": "2023-08-16T21:33:36.283258Z"
    }
   }
  },
  {
   "cell_type": "code",
   "execution_count": 9,
   "outputs": [],
   "source": [
    "\n",
    "input_ids = tokenizer(input_text, return_tensors=\"pt\", truncation=True).input_ids\n",
    "outputs = model.generate(input_ids, max_length=512)\n",
    "edited_text = tokenizer.decode(outputs[0], skip_special_tokens=True)"
   ],
   "metadata": {
    "collapsed": false,
    "ExecuteTime": {
     "end_time": "2023-08-16T21:38:07.793424Z",
     "start_time": "2023-08-16T21:37:36.653896Z"
    }
   }
  },
  {
   "cell_type": "code",
   "execution_count": 10,
   "outputs": [
    {
     "data": {
      "text/plain": "\"Client Devon Lallo patient Krieg account 6038 date 721 2023 pulse 100 respiratory sniffing mucous membranes pink and moist CRT less than 2 seconds weight 98.5 pounds, increase thirteen points 5 pounds in 6 months BCS 7 out of 9 pain score zero Behavior mentation VAR excitedly friendly toy and food motivated mouth equals nice teeth! CV equals no arrhythmia or murmurs respiratory no wheezes or crackles uke Nick when not panting abdomen Supple abdomen no masses or Organo megali noted g.i. Supple intestines no masses noted integument no discharge a you know fleas or flea stool muscular skeletal overweight no lameness well-muscled assessment over weight but well-muscled adolescent neutered male Labrador Retriever mix with mild clinical CHD already on good supplements overdue for vaccines and 4dx plan discussed assessment answered lots of great questions from Julia Andre weight CHD overall health discuss cradle Leo for flea tick prevention to minimize in a plasma and other raquet seals gave handouts on body condition scoring and O A management test performed for TX vaccines given da2 PCL for annual Sub-Q right cervical Lyme annual Sub-Q left cervical return next year for PE 40 x and vaccines I saw chewy Fenster maker patient ID 275 83, and chewy presented for itchy ears: the owner had some Surolan at home already and so they had already started to apply that at wasn't expired but they'd already started to apply it at 3 or 4 days ago and so they said that his clinical signs had already pretty much diminished so on the exam I did a full exam on Chewie, his eyes looked normal, his ears I did a full autoscopic exam on Chewie, his ears appeared quite good, his ears appeared quite good, his right ear was a little bit more air with ominous than his left ear but he didn't have much discharge in either ear just a slight amount in both ears and we didn't do an ear cytology because there really wasn't any discharge that I could get an ear cytology from so we ended up the rest of him completely normal completely on the rest of his\""
     },
     "execution_count": 10,
     "metadata": {},
     "output_type": "execute_result"
    }
   ],
   "source": [
    "edited_text"
   ],
   "metadata": {
    "collapsed": false,
    "ExecuteTime": {
     "end_time": "2023-08-16T21:38:07.813995Z",
     "start_time": "2023-08-16T21:38:07.801087Z"
    }
   }
  },
  {
   "cell_type": "code",
   "execution_count": null,
   "outputs": [],
   "source": [],
   "metadata": {
    "collapsed": false
   }
  }
 ],
 "metadata": {
  "kernelspec": {
   "display_name": "Python 3",
   "language": "python",
   "name": "python3"
  },
  "language_info": {
   "codemirror_mode": {
    "name": "ipython",
    "version": 2
   },
   "file_extension": ".py",
   "mimetype": "text/x-python",
   "name": "python",
   "nbconvert_exporter": "python",
   "pygments_lexer": "ipython2",
   "version": "2.7.6"
  }
 },
 "nbformat": 4,
 "nbformat_minor": 0
}
